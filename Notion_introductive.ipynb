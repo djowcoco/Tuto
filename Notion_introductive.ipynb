{
  "nbformat": 4,
  "nbformat_minor": 0,
  "metadata": {
    "colab": {
      "provenance": [],
      "authorship_tag": "ABX9TyMOI6es5kdSE3P/4IuIl31k",
      "include_colab_link": true
    },
    "kernelspec": {
      "name": "python3",
      "display_name": "Python 3"
    },
    "language_info": {
      "name": "python"
    }
  },
  "cells": [
    {
      "cell_type": "markdown",
      "metadata": {
        "id": "view-in-github",
        "colab_type": "text"
      },
      "source": [
        "<a href=\"https://colab.research.google.com/github/djowcoco/Tuto/blob/main/Notion_introductive.ipynb\" target=\"_parent\"><img src=\"https://colab.research.google.com/assets/colab-badge.svg\" alt=\"Open In Colab\"/></a>"
      ]
    },
    {
      "cell_type": "markdown",
      "source": [
        "# **Les variables**"
      ],
      "metadata": {
        "id": "ZxRNSk4p7PAk"
      }
    },
    {
      "cell_type": "code",
      "execution_count": null,
      "metadata": {
        "colab": {
          "base_uri": "https://localhost:8080/"
        },
        "id": "N9LUyk91vPK5",
        "outputId": "88879f0e-dafa-450c-f83e-4668709ff159"
      },
      "outputs": [
        {
          "output_type": "stream",
          "name": "stdout",
          "text": [
            "5\n"
          ]
        }
      ],
      "source": [
        "#Nombre\n",
        "a = 5\n",
        "print(a) #print pour afficher"
      ]
    },
    {
      "cell_type": "code",
      "source": [
        "#Entier 1,2,3,4,5 -> Integer (fonction)\n",
        "a = 1 #la variable de  une valeur de 1\n",
        "print (a)\n",
        "a = 2\n",
        "print (a)\n",
        "a = 3\n",
        "print (a)"
      ],
      "metadata": {
        "colab": {
          "base_uri": "https://localhost:8080/"
        },
        "id": "a2LpplmWwcK5",
        "outputId": "1aa113d0-53a6-4599-839c-e64be5b45623"
      },
      "execution_count": null,
      "outputs": [
        {
          "output_type": "stream",
          "name": "stdout",
          "text": [
            "1\n",
            "2\n",
            "3\n"
          ]
        }
      ]
    },
    {
      "cell_type": "code",
      "source": [
        "#Décimal -> Float (fonction)\n",
        "a = 1.2 #la virgule est un point pour les décimal\n",
        "print(a)"
      ],
      "metadata": {
        "colab": {
          "base_uri": "https://localhost:8080/"
        },
        "id": "MYj8bj_dxAE0",
        "outputId": "fed9cbcd-a023-4084-b043-292589e007ec"
      },
      "execution_count": null,
      "outputs": [
        {
          "output_type": "stream",
          "name": "stdout",
          "text": [
            "1.2\n"
          ]
        }
      ]
    },
    {
      "cell_type": "code",
      "source": [
        "type(a) #type est une fontion pour le type d'une variable\n",
        "b = 2 #la variable b a une valeur de 2\n",
        "type(b)"
      ],
      "metadata": {
        "colab": {
          "base_uri": "https://localhost:8080/"
        },
        "id": "AU88c1vPxb1e",
        "outputId": "7cf98a8a-ea8b-4b5b-8809-995d8891b87d"
      },
      "execution_count": null,
      "outputs": [
        {
          "output_type": "execute_result",
          "data": {
            "text/plain": [
              "int"
            ]
          },
          "metadata": {},
          "execution_count": 14
        }
      ]
    },
    {
      "cell_type": "code",
      "source": [
        "#phrases / lettres #String --> str type de lettre, phrases\n",
        "name = \"djowcoco\" #la variable de name est djowcoco\n",
        "print(name)\n",
        "type(name)"
      ],
      "metadata": {
        "colab": {
          "base_uri": "https://localhost:8080/"
        },
        "id": "htU5mlXdyi3D",
        "outputId": "a47e4326-4d31-4fdf-9602-41491fefb16c"
      },
      "execution_count": null,
      "outputs": [
        {
          "output_type": "stream",
          "name": "stdout",
          "text": [
            "djowcoco\n"
          ]
        },
        {
          "output_type": "execute_result",
          "data": {
            "text/plain": [
              "str"
            ]
          },
          "metadata": {},
          "execution_count": 13
        }
      ]
    },
    {
      "cell_type": "code",
      "source": [
        "first_name = \"djow\" #\"les string en python sont def entre '' ou \"\"\n",
        "print(first_name)\n",
        "first_name = 'djow'\n",
        "print(first_name)"
      ],
      "metadata": {
        "colab": {
          "base_uri": "https://localhost:8080/"
        },
        "id": "4arCakul6TAG",
        "outputId": "f4921f87-9f2a-4827-cce5-cf05fb24d5f8"
      },
      "execution_count": null,
      "outputs": [
        {
          "output_type": "stream",
          "name": "stdout",
          "text": [
            "djow\n",
            "djow\n"
          ]
        }
      ]
    },
    {
      "cell_type": "code",
      "source": [
        "#liste\n",
        "list_name_pokemon = [\"spectrum\", \"evoli\"] #une variable ne se définit pas avec des espaces, uniquement avec des _ ou des lettres (maj ou min)\n",
        "print(list_name_pokemon)                  #une list se dedéfini entre []\n",
        "type(list_name_pokemon)"
      ],
      "metadata": {
        "colab": {
          "base_uri": "https://localhost:8080/"
        },
        "id": "YZQqLGek65vw",
        "outputId": "35481ad1-35d0-4924-d151-4fcfb08e88f6"
      },
      "execution_count": null,
      "outputs": [
        {
          "output_type": "stream",
          "name": "stdout",
          "text": [
            "['spectrum', 'evoli']\n"
          ]
        },
        {
          "output_type": "execute_result",
          "data": {
            "text/plain": [
              "list"
            ]
          },
          "metadata": {},
          "execution_count": 12
        }
      ]
    },
    {
      "cell_type": "code",
      "source": [
        "#dictionnaire\n",
        "pokemon = {} #un dictionnaire se définit entre accolade {}, un dictionnaire est constitué de keys & d'item (clés / valeurs)\n",
        "print(pokemon)\n",
        "type(pokemon)"
      ],
      "metadata": {
        "colab": {
          "base_uri": "https://localhost:8080/"
        },
        "id": "GeJNilA38k4l",
        "outputId": "08031092-5527-4772-a5a6-e66f905ddfba"
      },
      "execution_count": null,
      "outputs": [
        {
          "output_type": "stream",
          "name": "stdout",
          "text": [
            "{}\n"
          ]
        },
        {
          "output_type": "execute_result",
          "data": {
            "text/plain": [
              "dict"
            ]
          },
          "metadata": {},
          "execution_count": 20
        }
      ]
    },
    {
      "cell_type": "code",
      "source": [
        "#possible de créer des dicos dans des dicos\n",
        "pokemon = {\n",
        "    1 : 'salameche',\n",
        "    2 : 'carapuce',\n",
        "    3 : 'bulbizare',\n",
        "    4 : {\n",
        "        'name':\"pikachu\"\n",
        "    },\n",
        "    5 : 'spectrum'\n",
        "}\n",
        "print(pokemon)"
      ],
      "metadata": {
        "colab": {
          "base_uri": "https://localhost:8080/"
        },
        "id": "S47yEaZD9HvP",
        "outputId": "1d9a6f9b-81ec-4d74-a43b-e1146300c069"
      },
      "execution_count": 82,
      "outputs": [
        {
          "output_type": "stream",
          "name": "stdout",
          "text": [
            "{1: 'salameche', 2: 'carapuce', 3: 'bulbizare', 4: {'name': 'pikachu'}, 5: 'spectrum'}\n"
          ]
        }
      ]
    },
    {
      "cell_type": "code",
      "source": [
        "pokemon[4]['name']"
      ],
      "metadata": {
        "colab": {
          "base_uri": "https://localhost:8080/",
          "height": 35
        },
        "id": "AK6HFlrPlUcD",
        "outputId": "a51ed014-7f76-412b-84f6-ceb0f5af5931"
      },
      "execution_count": 84,
      "outputs": [
        {
          "output_type": "execute_result",
          "data": {
            "text/plain": [
              "'pikachu'"
            ],
            "application/vnd.google.colaboratory.intrinsic+json": {
              "type": "string"
            }
          },
          "metadata": {},
          "execution_count": 84
        }
      ]
    },
    {
      "cell_type": "code",
      "source": [
        "#indexation\n",
        "pokemon[1] #on vient récupérer dans le dictionnaire pokemon, la valeur qui à la clef 1"
      ],
      "metadata": {
        "colab": {
          "base_uri": "https://localhost:8080/",
          "height": 35
        },
        "id": "PND19V3A_RcY",
        "outputId": "8ac09464-3573-485d-cf56-7f858ebc82d7"
      },
      "execution_count": 85,
      "outputs": [
        {
          "output_type": "execute_result",
          "data": {
            "text/plain": [
              "'salameche'"
            ],
            "application/vnd.google.colaboratory.intrinsic+json": {
              "type": "string"
            }
          },
          "metadata": {},
          "execution_count": 85
        }
      ]
    },
    {
      "cell_type": "code",
      "source": [
        "pokemon_list = ['salameche', 'carapuce', 'bulbizare', 'pikachu', 'spectrum']\n",
        "print(pokemon_list)\n",
        "print(pokemon_list[0])"
      ],
      "metadata": {
        "colab": {
          "base_uri": "https://localhost:8080/"
        },
        "id": "vBmGzZ0Zhokr",
        "outputId": "deed03bd-035e-4efd-dfe8-3b08b9251ad6"
      },
      "execution_count": 51,
      "outputs": [
        {
          "output_type": "stream",
          "name": "stdout",
          "text": [
            "['salameche', 'carapuce', 'bulbizare', 'pikachu', 'spectrum']\n",
            "salameche\n"
          ]
        }
      ]
    },
    {
      "cell_type": "code",
      "source": [
        "#une liste commence a l'adresse 0!\n",
        "print(pokemon_list[0])\n",
        "print(pokemon_list[1])\n",
        "print(pokemon_list[2])"
      ],
      "metadata": {
        "colab": {
          "base_uri": "https://localhost:8080/"
        },
        "id": "kIgMSPUEjd-4",
        "outputId": "26714f0a-610f-4b34-9e87-d2157649b601"
      },
      "execution_count": 52,
      "outputs": [
        {
          "output_type": "stream",
          "name": "stdout",
          "text": [
            "salameche\n",
            "carapuce\n",
            "bulbizare\n"
          ]
        }
      ]
    },
    {
      "cell_type": "markdown",
      "source": [
        "# **Les structures de contrôle**"
      ],
      "metadata": {
        "id": "itigcaAb_-NI"
      }
    },
    {
      "cell_type": "code",
      "source": [
        "print(pokemon_list)"
      ],
      "metadata": {
        "colab": {
          "base_uri": "https://localhost:8080/"
        },
        "id": "fUJaoZd0ku_B",
        "outputId": "60ccee91-21cd-42fe-c961-dcbedaa101eb"
      },
      "execution_count": 53,
      "outputs": [
        {
          "output_type": "stream",
          "name": "stdout",
          "text": [
            "['salameche', 'carapuce', 'bulbizare', 'pikachu', 'spectrum']\n"
          ]
        }
      ]
    },
    {
      "cell_type": "code",
      "source": [
        "#boucle FOR\n",
        "#for VARIABLE in LIST : IMPORTANT LES DEUX POINTS A LA FIN\n",
        "# instruction imporTANT L'Identification\n",
        "\n",
        "for pokemon in pokemon_list :\n",
        "  print(pokemon)\n",
        "print(pokemon)"
      ],
      "metadata": {
        "id": "YTKRBJKBARHF",
        "colab": {
          "base_uri": "https://localhost:8080/"
        },
        "outputId": "75f65d6f-9854-4d96-ceb8-f729f4be0b81"
      },
      "execution_count": 87,
      "outputs": [
        {
          "output_type": "stream",
          "name": "stdout",
          "text": [
            "salameche\n",
            "carapuce\n",
            "bulbizare\n",
            "pikachu\n",
            "spectrum\n",
            "spectrum\n"
          ]
        }
      ]
    },
    {
      "cell_type": "code",
      "source": [
        "for i in range(0,10) : #range est une foncton de python qui permet de créer des listes de \"A a B-1\"\n",
        "  print(i)"
      ],
      "metadata": {
        "id": "DHpim95RARnd",
        "colab": {
          "base_uri": "https://localhost:8080/"
        },
        "outputId": "5d997468-7389-47b0-8b72-d787b0297f63"
      },
      "execution_count": 95,
      "outputs": [
        {
          "output_type": "stream",
          "name": "stdout",
          "text": [
            "0\n",
            "1\n",
            "2\n",
            "3\n",
            "4\n",
            "5\n",
            "6\n",
            "7\n",
            "8\n",
            "9\n"
          ]
        }
      ]
    },
    {
      "cell_type": "markdown",
      "source": [
        "# Nouvelle section"
      ],
      "metadata": {
        "id": "xDLsGxNGAIpP"
      }
    }
  ]
}