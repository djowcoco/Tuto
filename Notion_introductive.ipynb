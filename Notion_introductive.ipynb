{
  "nbformat": 4,
  "nbformat_minor": 0,
  "metadata": {
    "colab": {
      "provenance": [],
      "authorship_tag": "ABX9TyN4TBs3jidUczRJyIy1/D4O",
      "include_colab_link": true
    },
    "kernelspec": {
      "name": "python3",
      "display_name": "Python 3"
    },
    "language_info": {
      "name": "python"
    }
  },
  "cells": [
    {
      "cell_type": "markdown",
      "metadata": {
        "id": "view-in-github",
        "colab_type": "text"
      },
      "source": [
        "<a href=\"https://colab.research.google.com/github/djowcoco/Tuto/blob/main/Notion_introductive.ipynb\" target=\"_parent\"><img src=\"https://colab.research.google.com/assets/colab-badge.svg\" alt=\"Open In Colab\"/></a>"
      ]
    },
    {
      "cell_type": "markdown",
      "source": [
        "# **Les variables**"
      ],
      "metadata": {
        "id": "ZxRNSk4p7PAk"
      }
    },
    {
      "cell_type": "code",
      "execution_count": null,
      "metadata": {
        "colab": {
          "base_uri": "https://localhost:8080/"
        },
        "id": "N9LUyk91vPK5",
        "outputId": "88879f0e-dafa-450c-f83e-4668709ff159"
      },
      "outputs": [
        {
          "output_type": "stream",
          "name": "stdout",
          "text": [
            "5\n"
          ]
        }
      ],
      "source": [
        "#Nombre\n",
        "a = 5\n",
        "print(a) #print pour afficher"
      ]
    },
    {
      "cell_type": "code",
      "source": [
        "#Entier 1,2,3,4,5 -> Integer (fonction)\n",
        "a = 1 #la variable de  une valeur de 1\n",
        "print (a)\n",
        "a = 2\n",
        "print (a)\n",
        "a = 3\n",
        "print (a)"
      ],
      "metadata": {
        "colab": {
          "base_uri": "https://localhost:8080/"
        },
        "id": "a2LpplmWwcK5",
        "outputId": "1aa113d0-53a6-4599-839c-e64be5b45623"
      },
      "execution_count": null,
      "outputs": [
        {
          "output_type": "stream",
          "name": "stdout",
          "text": [
            "1\n",
            "2\n",
            "3\n"
          ]
        }
      ]
    },
    {
      "cell_type": "code",
      "source": [
        "#Décimal -> Float (fonction)\n",
        "a = 1.2 #la virgule est un point pour les décimal\n",
        "print(a)"
      ],
      "metadata": {
        "colab": {
          "base_uri": "https://localhost:8080/"
        },
        "id": "MYj8bj_dxAE0",
        "outputId": "fed9cbcd-a023-4084-b043-292589e007ec"
      },
      "execution_count": null,
      "outputs": [
        {
          "output_type": "stream",
          "name": "stdout",
          "text": [
            "1.2\n"
          ]
        }
      ]
    },
    {
      "cell_type": "code",
      "source": [
        "type(a) #type est une fontion pour le type d'une variable\n",
        "b = 2 #la variable b a une valeur de 2\n",
        "type(b)"
      ],
      "metadata": {
        "colab": {
          "base_uri": "https://localhost:8080/"
        },
        "id": "AU88c1vPxb1e",
        "outputId": "7cf98a8a-ea8b-4b5b-8809-995d8891b87d"
      },
      "execution_count": null,
      "outputs": [
        {
          "output_type": "execute_result",
          "data": {
            "text/plain": [
              "int"
            ]
          },
          "metadata": {},
          "execution_count": 14
        }
      ]
    },
    {
      "cell_type": "code",
      "source": [
        "#phrases / lettres #String --> str type de lettre, phrases\n",
        "name = \"djowcoco\" #la variable de name est djowcoco\n",
        "print(name)\n",
        "type(name)"
      ],
      "metadata": {
        "colab": {
          "base_uri": "https://localhost:8080/"
        },
        "id": "htU5mlXdyi3D",
        "outputId": "a47e4326-4d31-4fdf-9602-41491fefb16c"
      },
      "execution_count": null,
      "outputs": [
        {
          "output_type": "stream",
          "name": "stdout",
          "text": [
            "djowcoco\n"
          ]
        },
        {
          "output_type": "execute_result",
          "data": {
            "text/plain": [
              "str"
            ]
          },
          "metadata": {},
          "execution_count": 13
        }
      ]
    },
    {
      "cell_type": "code",
      "source": [
        "first_name = \"djow\" #\"les string en python sont def entre '' ou \"\"\n",
        "print(first_name)\n",
        "first_name = 'djow'\n",
        "print(first_name)"
      ],
      "metadata": {
        "colab": {
          "base_uri": "https://localhost:8080/"
        },
        "id": "4arCakul6TAG",
        "outputId": "f4921f87-9f2a-4827-cce5-cf05fb24d5f8"
      },
      "execution_count": null,
      "outputs": [
        {
          "output_type": "stream",
          "name": "stdout",
          "text": [
            "djow\n",
            "djow\n"
          ]
        }
      ]
    },
    {
      "cell_type": "code",
      "source": [
        "#liste\n",
        "list_name_pokemon = [\"spectrum\", \"evoli\"] #une variable ne se définit pas avec des espaces, uniquement avec des _ ou des lettres (maj ou min)\n",
        "print(list_name_pokemon)                  #une list se dedéfini entre []\n",
        "type(list_name_pokemon)"
      ],
      "metadata": {
        "colab": {
          "base_uri": "https://localhost:8080/"
        },
        "id": "YZQqLGek65vw",
        "outputId": "35481ad1-35d0-4924-d151-4fcfb08e88f6"
      },
      "execution_count": null,
      "outputs": [
        {
          "output_type": "stream",
          "name": "stdout",
          "text": [
            "['spectrum', 'evoli']\n"
          ]
        },
        {
          "output_type": "execute_result",
          "data": {
            "text/plain": [
              "list"
            ]
          },
          "metadata": {},
          "execution_count": 12
        }
      ]
    },
    {
      "cell_type": "code",
      "source": [
        "#dictionnaire\n",
        "pokemon = {} #un dictionnaire se définit entre accolade {}, un dictionnaire est constitué de keys & d'item (clé / valeurs)\n",
        "print(pokemon)\n",
        "type(pokemon)"
      ],
      "metadata": {
        "colab": {
          "base_uri": "https://localhost:8080/"
        },
        "id": "GeJNilA38k4l",
        "outputId": "08031092-5527-4772-a5a6-e66f905ddfba"
      },
      "execution_count": null,
      "outputs": [
        {
          "output_type": "stream",
          "name": "stdout",
          "text": [
            "{}\n"
          ]
        },
        {
          "output_type": "execute_result",
          "data": {
            "text/plain": [
              "dict"
            ]
          },
          "metadata": {},
          "execution_count": 20
        }
      ]
    },
    {
      "cell_type": "code",
      "source": [
        "pokemon = {\n",
        "    1 : 'salameche',\n",
        "    2 : 'carapuce',\n",
        "    3 : 'bulbizare'\n",
        "    4 : 'pikachu'\n",
        "    5 : 'spectrum'\n",
        "}\n",
        "print(pokemon)"
      ],
      "metadata": {
        "colab": {
          "base_uri": "https://localhost:8080/"
        },
        "id": "S47yEaZD9HvP",
        "outputId": "2206e562-d160-4536-b8ab-d256c8a7b6ef"
      },
      "execution_count": null,
      "outputs": [
        {
          "output_type": "stream",
          "name": "stdout",
          "text": [
            "{1: 'salameche', 2: 'carapuce', 3: 'bulbizare'}\n"
          ]
        }
      ]
    },
    {
      "cell_type": "code",
      "source": [
        "pokemon [1] #on vient récupérer dans le dictionnaire students, la valeur qui à la clef 1"
      ],
      "metadata": {
        "colab": {
          "base_uri": "https://localhost:8080/",
          "height": 35
        },
        "id": "PND19V3A_RcY",
        "outputId": "5e887f86-f8e7-4aa4-fa8e-41fb4bce5a3f"
      },
      "execution_count": null,
      "outputs": [
        {
          "output_type": "execute_result",
          "data": {
            "text/plain": [
              "'salameche'"
            ],
            "application/vnd.google.colaboratory.intrinsic+json": {
              "type": "string"
            }
          },
          "metadata": {},
          "execution_count": 37
        }
      ]
    },
    {
      "cell_type": "markdown",
      "source": [
        "# **Les structures de contrôle**"
      ],
      "metadata": {
        "id": "itigcaAb_-NI"
      }
    },
    {
      "cell_type": "code",
      "source": [],
      "metadata": {
        "id": "YTKRBJKBARHF"
      },
      "execution_count": null,
      "outputs": []
    },
    {
      "cell_type": "code",
      "source": [],
      "metadata": {
        "id": "DHpim95RARnd"
      },
      "execution_count": null,
      "outputs": []
    },
    {
      "cell_type": "markdown",
      "source": [
        "# Nouvelle section"
      ],
      "metadata": {
        "id": "xDLsGxNGAIpP"
      }
    }
  ]
}